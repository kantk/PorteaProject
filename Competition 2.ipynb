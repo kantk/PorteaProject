{
 "cells": [
  {
   "cell_type": "code",
   "execution_count": 253,
   "metadata": {
    "collapsed": true
   },
   "outputs": [],
   "source": [
    "import numpy  as np\n",
    "import pandas as pd \n",
    "import matplotlib.pyplot as plt\n"
   ]
  },
  {
   "cell_type": "code",
   "execution_count": 343,
   "metadata": {},
   "outputs": [
    {
     "name": "stderr",
     "output_type": "stream",
     "text": [
      "C:\\Users\\i054633\\AppData\\Local\\Continuum\\anaconda3\\lib\\site-packages\\IPython\\core\\interactiveshell.py:2698: DtypeWarning: Columns (21) have mixed types. Specify dtype option on import or set low_memory=False.\n",
      "  interactivity=interactivity, compiler=compiler, result=result)\n"
     ]
    }
   ],
   "source": [
    "mrt      = pd.read_csv('patient_monthwise_revenue_train.csv')\n",
    "mrt_test = pd.read_csv('patient_monthwise_revenue_test.csv')"
   ]
  },
  {
   "cell_type": "code",
   "execution_count": 255,
   "metadata": {},
   "outputs": [],
   "source": [
    "#mrt_f1   = pd.concat([mrt, mrt_test], axis = 0)\n",
    "#mrt_f1.patient_id.nunique()"
   ]
  },
  {
   "cell_type": "code",
   "execution_count": 256,
   "metadata": {
    "scrolled": true
   },
   "outputs": [],
   "source": [
    "\n",
    "#mrt_f1['service_id'].isnull().any()\n"
   ]
  },
  {
   "cell_type": "code",
   "execution_count": 257,
   "metadata": {},
   "outputs": [],
   "source": [
    "# number of services , most_frequent_service_id : mrt_f1_service_count, mrt_f1_most_frequent_service_count\n",
    "#mrt_f1_service = mrt_f1.groupby(['patient_id', 'service_id']).count()\n",
    "\n",
    "#mrt_f1_service['count'] = mrt_f1_service['FVD']\n",
    "\n",
    "#mrt_f1_service_count    = mrt_f1_service.groupby('patient_id').count().FVD\n",
    "#mrt_f1_service_count = mrt_f1_service_count.to_frame()\n",
    "#labels = [ 'no_of_services']\n",
    "#mrt_f1_service_count.columns = labels\n",
    "\n",
    "#mrt_f1_service_max = mrt_f1.groupby(['patient_id', 'service_id'])['visits_count'].sum()\n",
    "\n",
    "#mrt_f1_service_max = mrt_f1_service_max.to_frame()\n",
    "#mrt_f1_service_max = mrt_f1_service_max.loc[mrt_f1_service_max.groupby('patient_id' )['visits_count'].idxmax()]\n",
    "#mrt_f1_service_max"
   ]
  },
  {
   "cell_type": "code",
   "execution_count": 258,
   "metadata": {},
   "outputs": [],
   "source": [
    "#mrt_f1_service_max.to_csv('mrt_f1_service_max.csv')\n",
    "#mrt_f1_service_count.to_csv('mrt_f1_service_count.columns.csv')"
   ]
  },
  {
   "cell_type": "code",
   "execution_count": 259,
   "metadata": {},
   "outputs": [],
   "source": [
    "mrt_f1   = pd.concat([mrt, mrt_test], axis = 0)\n",
    "\n"
   ]
  },
  {
   "cell_type": "code",
   "execution_count": 260,
   "metadata": {},
   "outputs": [],
   "source": [
    "#mrt_f1[\"city\"]  = mrt_f1[\"city\"].astype('category')\n",
    "#mrt_f1['city']  = mrt_f1['city'].cat.codes.to_frame()\n",
    "#mrt_f1_city     = mrt_f1.groupby('patient_id').max().city"
   ]
  },
  {
   "cell_type": "code",
   "execution_count": 261,
   "metadata": {
    "collapsed": true
   },
   "outputs": [],
   "source": [
    "#mrt_f1[\"ref_type\"]  = mrt_f1[\"ref_type\"].astype('category')\n",
    "#mrt_f1['ref_type']  = mrt_f1['ref_type'].cat.codes.to_frame()\n",
    "#mrt_f1_ref_type     = mrt_f1.groupby('patient_id').max().ref_type"
   ]
  },
  {
   "cell_type": "code",
   "execution_count": 262,
   "metadata": {
    "collapsed": true
   },
   "outputs": [],
   "source": [
    "#mrt_f1[\"ref_name\"]  = mrt_f1[\"ref_name\"].astype('category')\n",
    "#mrt_f1['ref_name']  = mrt_f1['ref_name'].cat.codes.to_frame()\n",
    "#mrt_f1_ref_name     = mrt_f1.groupby('patient_id').max().ref_name"
   ]
  },
  {
   "cell_type": "code",
   "execution_count": 263,
   "metadata": {
    "collapsed": true
   },
   "outputs": [],
   "source": [
    "#mrt_f1[\"ref_source\"]  = mrt_f1[\"ref_source\"].astype('category')\n",
    "#mrt_f1['ref_source']  = mrt_f1['ref_source'].cat.codes.to_frame()\n",
    "#mrt_f1_ref_source     = mrt_f1.groupby('patient_id').max().ref_source"
   ]
  },
  {
   "cell_type": "code",
   "execution_count": 264,
   "metadata": {
    "collapsed": true
   },
   "outputs": [],
   "source": [
    "#mrt_f1[\"gender\"]  = mrt_f1[\"gender\"].astype('category')\n",
    "#mrt_f1['gender']  = mrt_f1['gender'].cat.codes.to_frame()\n",
    "#mrt_f1_gender     = mrt_f1.groupby('patient_id').max().gender"
   ]
  },
  {
   "cell_type": "code",
   "execution_count": 265,
   "metadata": {
    "collapsed": true
   },
   "outputs": [],
   "source": [
    "#mrt_f1[\"brand\"]  = mrt_f1[\"brand\"].astype('category')\n",
    "#mrt_f1['brand']  = mrt_f1['brand'].cat.codes.to_frame()\n",
    "#mrt_f1_ref_brand     = mrt_f1.groupby('patient_id').max().brand"
   ]
  },
  {
   "cell_type": "code",
   "execution_count": 266,
   "metadata": {},
   "outputs": [],
   "source": [
    "#mrt_f1_cat = pd.concat([mrt_f1_city,mrt_f1_ref_type,mrt_f1_ref_name, mrt_f1_ref_source, mrt_f1_gender, mrt_f1_ref_brand], axis = 1)"
   ]
  },
  {
   "cell_type": "code",
   "execution_count": 267,
   "metadata": {},
   "outputs": [],
   "source": [
    "#mrt_f1_cat.to_csv('mrt_f1_categorical.csv')"
   ]
  },
  {
   "cell_type": "code",
   "execution_count": 268,
   "metadata": {
    "collapsed": true
   },
   "outputs": [],
   "source": [
    "#mrt_f1_sums  = mrt_f1.groupby('patient_id').sum()"
   ]
  },
  {
   "cell_type": "code",
   "execution_count": 269,
   "metadata": {},
   "outputs": [],
   "source": [
    "#mrt_f1_sums.to_csv('mrt_f1_sums.csv')"
   ]
  },
  {
   "cell_type": "code",
   "execution_count": 270,
   "metadata": {
    "collapsed": true
   },
   "outputs": [],
   "source": [
    "#mrt_f1_count = mrt_f1.groupby('patient_id').count().LVD"
   ]
  },
  {
   "cell_type": "code",
   "execution_count": 271,
   "metadata": {
    "collapsed": true
   },
   "outputs": [],
   "source": [
    "#mrt_f1_count.to_csv('mrt_f1_count.csv')"
   ]
  },
  {
   "cell_type": "code",
   "execution_count": 272,
   "metadata": {
    "collapsed": true
   },
   "outputs": [],
   "source": [
    "from datetime import datetime\n",
    "import time\n",
    "\n",
    "def compare_dates(date):\n",
    "    date_format = '%d/%m/%Y'\n",
    "    current_date = datetime.strptime(date, date_format)  \n",
    "  \n",
    "    return current_date\n",
    "\n",
    "#mrt_f1['FVD'] = mrt_f1['FVD'].apply(compare_dates)"
   ]
  },
  {
   "cell_type": "code",
   "execution_count": 273,
   "metadata": {
    "collapsed": true
   },
   "outputs": [],
   "source": [
    "#mrt_f1['LVD'] = mrt_f1['LVD'].apply(compare_dates)"
   ]
  },
  {
   "cell_type": "code",
   "execution_count": 274,
   "metadata": {
    "collapsed": true
   },
   "outputs": [],
   "source": [
    "#mrt_f1['no_of_days'] = (mrt_f1['LVD']-mrt_f1['FVD']).dt.days"
   ]
  },
  {
   "cell_type": "code",
   "execution_count": 275,
   "metadata": {},
   "outputs": [],
   "source": [
    "#mrt_f1_no_of_days = mrt_f1.groupby('patient_id').max().no_of_days"
   ]
  },
  {
   "cell_type": "code",
   "execution_count": 276,
   "metadata": {
    "collapsed": true
   },
   "outputs": [],
   "source": [
    "#mrt_f1_no_of_days.to_csv('mrt_f1_no_of_days.csv')"
   ]
  },
  {
   "cell_type": "code",
   "execution_count": 277,
   "metadata": {},
   "outputs": [],
   "source": [
    "#dg_train = pd.read_csv('physio_diagnosis_train.csv')\n",
    "#dg_test  = pd.read_csv('physio_diagnosis_test.csv')"
   ]
  },
  {
   "cell_type": "code",
   "execution_count": 278,
   "metadata": {},
   "outputs": [],
   "source": [
    "#dg = pd.concat([dg_train, dg_test], axis = 0)"
   ]
  },
  {
   "cell_type": "code",
   "execution_count": 279,
   "metadata": {},
   "outputs": [],
   "source": [
    "#dg.info()"
   ]
  },
  {
   "cell_type": "code",
   "execution_count": 280,
   "metadata": {},
   "outputs": [],
   "source": [
    "#dg[\"diagnosis\"] = dg[\"diagnosis\"].astype('category')\n",
    "#dg['diagnosis'] = dg['diagnosis'].cat.codes.to_frame()\n",
    "#dg = dg.groupby('patientId').max()\n",
    "#dg.to_csv('dg.csv')"
   ]
  },
  {
   "cell_type": "code",
   "execution_count": 281,
   "metadata": {},
   "outputs": [],
   "source": [
    "#dg['diagnosis'].unique()"
   ]
  },
  {
   "cell_type": "code",
   "execution_count": 282,
   "metadata": {
    "collapsed": true
   },
   "outputs": [],
   "source": [
    "out = pd.read_csv('patient_train_classified.csv')\n",
    "final = pd.read_csv('mrt_f1_service_final.csv')"
   ]
  },
  {
   "cell_type": "code",
   "execution_count": 283,
   "metadata": {},
   "outputs": [
    {
     "name": "stdout",
     "output_type": "stream",
     "text": [
      "<class 'pandas.core.frame.DataFrame'>\n",
      "RangeIndex: 48804 entries, 0 to 48803\n",
      "Data columns (total 3 columns):\n",
      "PID        48804 non-null int64\n",
      "Bucket     48804 non-null object\n",
      "Revenue    48804 non-null float64\n",
      "dtypes: float64(1), int64(1), object(1)\n",
      "memory usage: 1.1+ MB\n"
     ]
    }
   ],
   "source": [
    "out.info()"
   ]
  },
  {
   "cell_type": "code",
   "execution_count": 284,
   "metadata": {},
   "outputs": [],
   "source": [
    "labels = ['patient_id', 'Bucket', 'Revenue']\n",
    "outs = out\n",
    "outs.columns = labels\n",
    "outs = outs.groupby('patient_id', as_index=False).max()\n"
   ]
  },
  {
   "cell_type": "code",
   "execution_count": 285,
   "metadata": {},
   "outputs": [
    {
     "data": {
      "text/html": [
       "<div>\n",
       "<style>\n",
       "    .dataframe thead tr:only-child th {\n",
       "        text-align: right;\n",
       "    }\n",
       "\n",
       "    .dataframe thead th {\n",
       "        text-align: left;\n",
       "    }\n",
       "\n",
       "    .dataframe tbody tr th {\n",
       "        vertical-align: top;\n",
       "    }\n",
       "</style>\n",
       "<table border=\"1\" class=\"dataframe\">\n",
       "  <thead>\n",
       "    <tr style=\"text-align: right;\">\n",
       "      <th></th>\n",
       "      <th>patient_id</th>\n",
       "      <th>Bucket</th>\n",
       "      <th>Revenue</th>\n",
       "    </tr>\n",
       "  </thead>\n",
       "  <tbody>\n",
       "    <tr>\n",
       "      <th>0</th>\n",
       "      <td>10020</td>\n",
       "      <td>Low</td>\n",
       "      <td>500.0</td>\n",
       "    </tr>\n",
       "    <tr>\n",
       "      <th>1</th>\n",
       "      <td>10293</td>\n",
       "      <td>Med</td>\n",
       "      <td>4900.0</td>\n",
       "    </tr>\n",
       "    <tr>\n",
       "      <th>2</th>\n",
       "      <td>10381</td>\n",
       "      <td>High</td>\n",
       "      <td>12250.0</td>\n",
       "    </tr>\n",
       "    <tr>\n",
       "      <th>3</th>\n",
       "      <td>10388</td>\n",
       "      <td>High</td>\n",
       "      <td>30350.0</td>\n",
       "    </tr>\n",
       "    <tr>\n",
       "      <th>4</th>\n",
       "      <td>10611</td>\n",
       "      <td>Med</td>\n",
       "      <td>4250.0</td>\n",
       "    </tr>\n",
       "    <tr>\n",
       "      <th>5</th>\n",
       "      <td>10670</td>\n",
       "      <td>High-Med</td>\n",
       "      <td>6400.0</td>\n",
       "    </tr>\n",
       "    <tr>\n",
       "      <th>6</th>\n",
       "      <td>10672</td>\n",
       "      <td>High</td>\n",
       "      <td>57500.0</td>\n",
       "    </tr>\n",
       "    <tr>\n",
       "      <th>7</th>\n",
       "      <td>10714</td>\n",
       "      <td>High</td>\n",
       "      <td>75400.0</td>\n",
       "    </tr>\n",
       "    <tr>\n",
       "      <th>8</th>\n",
       "      <td>10826</td>\n",
       "      <td>High</td>\n",
       "      <td>14150.0</td>\n",
       "    </tr>\n",
       "    <tr>\n",
       "      <th>9</th>\n",
       "      <td>10841</td>\n",
       "      <td>Med</td>\n",
       "      <td>4050.0</td>\n",
       "    </tr>\n",
       "    <tr>\n",
       "      <th>10</th>\n",
       "      <td>11193</td>\n",
       "      <td>High</td>\n",
       "      <td>19500.0</td>\n",
       "    </tr>\n",
       "    <tr>\n",
       "      <th>11</th>\n",
       "      <td>11257</td>\n",
       "      <td>Low</td>\n",
       "      <td>900.0</td>\n",
       "    </tr>\n",
       "    <tr>\n",
       "      <th>12</th>\n",
       "      <td>11462</td>\n",
       "      <td>Med</td>\n",
       "      <td>3850.0</td>\n",
       "    </tr>\n",
       "    <tr>\n",
       "      <th>13</th>\n",
       "      <td>11480</td>\n",
       "      <td>Low</td>\n",
       "      <td>600.0</td>\n",
       "    </tr>\n",
       "    <tr>\n",
       "      <th>14</th>\n",
       "      <td>11750</td>\n",
       "      <td>Med</td>\n",
       "      <td>2000.0</td>\n",
       "    </tr>\n",
       "    <tr>\n",
       "      <th>15</th>\n",
       "      <td>11883</td>\n",
       "      <td>High-Med</td>\n",
       "      <td>7150.0</td>\n",
       "    </tr>\n",
       "    <tr>\n",
       "      <th>16</th>\n",
       "      <td>11949</td>\n",
       "      <td>Low</td>\n",
       "      <td>550.0</td>\n",
       "    </tr>\n",
       "    <tr>\n",
       "      <th>17</th>\n",
       "      <td>11975</td>\n",
       "      <td>High</td>\n",
       "      <td>101950.0</td>\n",
       "    </tr>\n",
       "    <tr>\n",
       "      <th>18</th>\n",
       "      <td>12084</td>\n",
       "      <td>High-Med</td>\n",
       "      <td>5900.0</td>\n",
       "    </tr>\n",
       "    <tr>\n",
       "      <th>19</th>\n",
       "      <td>12089</td>\n",
       "      <td>Low</td>\n",
       "      <td>500.0</td>\n",
       "    </tr>\n",
       "    <tr>\n",
       "      <th>20</th>\n",
       "      <td>12113</td>\n",
       "      <td>Low</td>\n",
       "      <td>0.0</td>\n",
       "    </tr>\n",
       "    <tr>\n",
       "      <th>21</th>\n",
       "      <td>12120</td>\n",
       "      <td>High-Med</td>\n",
       "      <td>8600.0</td>\n",
       "    </tr>\n",
       "    <tr>\n",
       "      <th>22</th>\n",
       "      <td>12127</td>\n",
       "      <td>High-Med</td>\n",
       "      <td>9991.0</td>\n",
       "    </tr>\n",
       "    <tr>\n",
       "      <th>23</th>\n",
       "      <td>12142</td>\n",
       "      <td>Low</td>\n",
       "      <td>100.0</td>\n",
       "    </tr>\n",
       "    <tr>\n",
       "      <th>24</th>\n",
       "      <td>12259</td>\n",
       "      <td>Low</td>\n",
       "      <td>600.0</td>\n",
       "    </tr>\n",
       "    <tr>\n",
       "      <th>25</th>\n",
       "      <td>12355</td>\n",
       "      <td>Low</td>\n",
       "      <td>100.0</td>\n",
       "    </tr>\n",
       "    <tr>\n",
       "      <th>26</th>\n",
       "      <td>12378</td>\n",
       "      <td>Med</td>\n",
       "      <td>3250.0</td>\n",
       "    </tr>\n",
       "    <tr>\n",
       "      <th>27</th>\n",
       "      <td>12468</td>\n",
       "      <td>High-Med</td>\n",
       "      <td>9250.0</td>\n",
       "    </tr>\n",
       "    <tr>\n",
       "      <th>28</th>\n",
       "      <td>12646</td>\n",
       "      <td>Med</td>\n",
       "      <td>1700.0</td>\n",
       "    </tr>\n",
       "    <tr>\n",
       "      <th>29</th>\n",
       "      <td>12650</td>\n",
       "      <td>Low</td>\n",
       "      <td>100.0</td>\n",
       "    </tr>\n",
       "    <tr>\n",
       "      <th>...</th>\n",
       "      <td>...</td>\n",
       "      <td>...</td>\n",
       "      <td>...</td>\n",
       "    </tr>\n",
       "    <tr>\n",
       "      <th>48774</th>\n",
       "      <td>453834</td>\n",
       "      <td>High-Med</td>\n",
       "      <td>5550.0</td>\n",
       "    </tr>\n",
       "    <tr>\n",
       "      <th>48775</th>\n",
       "      <td>453850</td>\n",
       "      <td>Low</td>\n",
       "      <td>420.0</td>\n",
       "    </tr>\n",
       "    <tr>\n",
       "      <th>48776</th>\n",
       "      <td>453856</td>\n",
       "      <td>Med</td>\n",
       "      <td>2205.0</td>\n",
       "    </tr>\n",
       "    <tr>\n",
       "      <th>48777</th>\n",
       "      <td>453857</td>\n",
       "      <td>Low</td>\n",
       "      <td>980.0</td>\n",
       "    </tr>\n",
       "    <tr>\n",
       "      <th>48778</th>\n",
       "      <td>453883</td>\n",
       "      <td>High-Med</td>\n",
       "      <td>5750.0</td>\n",
       "    </tr>\n",
       "    <tr>\n",
       "      <th>48779</th>\n",
       "      <td>453935</td>\n",
       "      <td>Med</td>\n",
       "      <td>1400.0</td>\n",
       "    </tr>\n",
       "    <tr>\n",
       "      <th>48780</th>\n",
       "      <td>453938</td>\n",
       "      <td>Low</td>\n",
       "      <td>550.0</td>\n",
       "    </tr>\n",
       "    <tr>\n",
       "      <th>48781</th>\n",
       "      <td>453957</td>\n",
       "      <td>Med</td>\n",
       "      <td>4600.0</td>\n",
       "    </tr>\n",
       "    <tr>\n",
       "      <th>48782</th>\n",
       "      <td>453981</td>\n",
       "      <td>Low</td>\n",
       "      <td>700.0</td>\n",
       "    </tr>\n",
       "    <tr>\n",
       "      <th>48783</th>\n",
       "      <td>454005</td>\n",
       "      <td>Med</td>\n",
       "      <td>3850.0</td>\n",
       "    </tr>\n",
       "    <tr>\n",
       "      <th>48784</th>\n",
       "      <td>454086</td>\n",
       "      <td>Med</td>\n",
       "      <td>2150.0</td>\n",
       "    </tr>\n",
       "    <tr>\n",
       "      <th>48785</th>\n",
       "      <td>454133</td>\n",
       "      <td>Med</td>\n",
       "      <td>1900.0</td>\n",
       "    </tr>\n",
       "    <tr>\n",
       "      <th>48786</th>\n",
       "      <td>454160</td>\n",
       "      <td>High-Med</td>\n",
       "      <td>5550.0</td>\n",
       "    </tr>\n",
       "    <tr>\n",
       "      <th>48787</th>\n",
       "      <td>454161</td>\n",
       "      <td>High-Med</td>\n",
       "      <td>5100.0</td>\n",
       "    </tr>\n",
       "    <tr>\n",
       "      <th>48788</th>\n",
       "      <td>454221</td>\n",
       "      <td>Low</td>\n",
       "      <td>650.0</td>\n",
       "    </tr>\n",
       "    <tr>\n",
       "      <th>48789</th>\n",
       "      <td>454236</td>\n",
       "      <td>Low</td>\n",
       "      <td>700.0</td>\n",
       "    </tr>\n",
       "    <tr>\n",
       "      <th>48790</th>\n",
       "      <td>454255</td>\n",
       "      <td>Low</td>\n",
       "      <td>300.0</td>\n",
       "    </tr>\n",
       "    <tr>\n",
       "      <th>48791</th>\n",
       "      <td>454272</td>\n",
       "      <td>Low</td>\n",
       "      <td>500.0</td>\n",
       "    </tr>\n",
       "    <tr>\n",
       "      <th>48792</th>\n",
       "      <td>454332</td>\n",
       "      <td>Low</td>\n",
       "      <td>1000.0</td>\n",
       "    </tr>\n",
       "    <tr>\n",
       "      <th>48793</th>\n",
       "      <td>454334</td>\n",
       "      <td>Low</td>\n",
       "      <td>600.0</td>\n",
       "    </tr>\n",
       "    <tr>\n",
       "      <th>48794</th>\n",
       "      <td>454342</td>\n",
       "      <td>Med</td>\n",
       "      <td>4000.0</td>\n",
       "    </tr>\n",
       "    <tr>\n",
       "      <th>48795</th>\n",
       "      <td>454359</td>\n",
       "      <td>Med</td>\n",
       "      <td>2990.0</td>\n",
       "    </tr>\n",
       "    <tr>\n",
       "      <th>48796</th>\n",
       "      <td>454365</td>\n",
       "      <td>Low</td>\n",
       "      <td>650.0</td>\n",
       "    </tr>\n",
       "    <tr>\n",
       "      <th>48797</th>\n",
       "      <td>454372</td>\n",
       "      <td>High</td>\n",
       "      <td>18150.0</td>\n",
       "    </tr>\n",
       "    <tr>\n",
       "      <th>48798</th>\n",
       "      <td>454378</td>\n",
       "      <td>Low</td>\n",
       "      <td>550.0</td>\n",
       "    </tr>\n",
       "    <tr>\n",
       "      <th>48799</th>\n",
       "      <td>454484</td>\n",
       "      <td>Low</td>\n",
       "      <td>600.0</td>\n",
       "    </tr>\n",
       "    <tr>\n",
       "      <th>48800</th>\n",
       "      <td>454510</td>\n",
       "      <td>Med</td>\n",
       "      <td>4000.0</td>\n",
       "    </tr>\n",
       "    <tr>\n",
       "      <th>48801</th>\n",
       "      <td>454598</td>\n",
       "      <td>Low</td>\n",
       "      <td>600.0</td>\n",
       "    </tr>\n",
       "    <tr>\n",
       "      <th>48802</th>\n",
       "      <td>454658</td>\n",
       "      <td>Low</td>\n",
       "      <td>600.0</td>\n",
       "    </tr>\n",
       "    <tr>\n",
       "      <th>48803</th>\n",
       "      <td>454678</td>\n",
       "      <td>Low</td>\n",
       "      <td>1000.0</td>\n",
       "    </tr>\n",
       "  </tbody>\n",
       "</table>\n",
       "<p>48804 rows × 3 columns</p>\n",
       "</div>"
      ],
      "text/plain": [
       "       patient_id    Bucket   Revenue\n",
       "0           10020       Low     500.0\n",
       "1           10293       Med    4900.0\n",
       "2           10381      High   12250.0\n",
       "3           10388      High   30350.0\n",
       "4           10611       Med    4250.0\n",
       "5           10670  High-Med    6400.0\n",
       "6           10672      High   57500.0\n",
       "7           10714      High   75400.0\n",
       "8           10826      High   14150.0\n",
       "9           10841       Med    4050.0\n",
       "10          11193      High   19500.0\n",
       "11          11257       Low     900.0\n",
       "12          11462       Med    3850.0\n",
       "13          11480       Low     600.0\n",
       "14          11750       Med    2000.0\n",
       "15          11883  High-Med    7150.0\n",
       "16          11949       Low     550.0\n",
       "17          11975      High  101950.0\n",
       "18          12084  High-Med    5900.0\n",
       "19          12089       Low     500.0\n",
       "20          12113       Low       0.0\n",
       "21          12120  High-Med    8600.0\n",
       "22          12127  High-Med    9991.0\n",
       "23          12142       Low     100.0\n",
       "24          12259       Low     600.0\n",
       "25          12355       Low     100.0\n",
       "26          12378       Med    3250.0\n",
       "27          12468  High-Med    9250.0\n",
       "28          12646       Med    1700.0\n",
       "29          12650       Low     100.0\n",
       "...           ...       ...       ...\n",
       "48774      453834  High-Med    5550.0\n",
       "48775      453850       Low     420.0\n",
       "48776      453856       Med    2205.0\n",
       "48777      453857       Low     980.0\n",
       "48778      453883  High-Med    5750.0\n",
       "48779      453935       Med    1400.0\n",
       "48780      453938       Low     550.0\n",
       "48781      453957       Med    4600.0\n",
       "48782      453981       Low     700.0\n",
       "48783      454005       Med    3850.0\n",
       "48784      454086       Med    2150.0\n",
       "48785      454133       Med    1900.0\n",
       "48786      454160  High-Med    5550.0\n",
       "48787      454161  High-Med    5100.0\n",
       "48788      454221       Low     650.0\n",
       "48789      454236       Low     700.0\n",
       "48790      454255       Low     300.0\n",
       "48791      454272       Low     500.0\n",
       "48792      454332       Low    1000.0\n",
       "48793      454334       Low     600.0\n",
       "48794      454342       Med    4000.0\n",
       "48795      454359       Med    2990.0\n",
       "48796      454365       Low     650.0\n",
       "48797      454372      High   18150.0\n",
       "48798      454378       Low     550.0\n",
       "48799      454484       Low     600.0\n",
       "48800      454510       Med    4000.0\n",
       "48801      454598       Low     600.0\n",
       "48802      454658       Low     600.0\n",
       "48803      454678       Low    1000.0\n",
       "\n",
       "[48804 rows x 3 columns]"
      ]
     },
     "execution_count": 285,
     "metadata": {},
     "output_type": "execute_result"
    }
   ],
   "source": [
    "outs"
   ]
  },
  {
   "cell_type": "code",
   "execution_count": 286,
   "metadata": {},
   "outputs": [],
   "source": [
    "outs_combined = pd.merge(outs, final, on = \"patient_id\")"
   ]
  },
  {
   "cell_type": "code",
   "execution_count": 287,
   "metadata": {},
   "outputs": [
    {
     "ename": "PermissionError",
     "evalue": "[Errno 13] Permission denied: 'outs.csv'",
     "output_type": "error",
     "traceback": [
      "\u001b[1;31m---------------------------------------------------------------------------\u001b[0m",
      "\u001b[1;31mPermissionError\u001b[0m                           Traceback (most recent call last)",
      "\u001b[1;32m<ipython-input-287-5fd840253138>\u001b[0m in \u001b[0;36m<module>\u001b[1;34m()\u001b[0m\n\u001b[1;32m----> 1\u001b[1;33m \u001b[0mouts_combined\u001b[0m\u001b[1;33m.\u001b[0m\u001b[0mto_csv\u001b[0m\u001b[1;33m(\u001b[0m\u001b[1;34m'outs.csv'\u001b[0m\u001b[1;33m)\u001b[0m\u001b[1;33m\u001b[0m\u001b[0m\n\u001b[0m",
      "\u001b[1;32m~\\AppData\\Local\\Continuum\\anaconda3\\lib\\site-packages\\pandas\\core\\frame.py\u001b[0m in \u001b[0;36mto_csv\u001b[1;34m(self, path_or_buf, sep, na_rep, float_format, columns, header, index, index_label, mode, encoding, compression, quoting, quotechar, line_terminator, chunksize, tupleize_cols, date_format, doublequote, escapechar, decimal)\u001b[0m\n\u001b[0;32m   1401\u001b[0m                                      \u001b[0mdoublequote\u001b[0m\u001b[1;33m=\u001b[0m\u001b[0mdoublequote\u001b[0m\u001b[1;33m,\u001b[0m\u001b[1;33m\u001b[0m\u001b[0m\n\u001b[0;32m   1402\u001b[0m                                      escapechar=escapechar, decimal=decimal)\n\u001b[1;32m-> 1403\u001b[1;33m         \u001b[0mformatter\u001b[0m\u001b[1;33m.\u001b[0m\u001b[0msave\u001b[0m\u001b[1;33m(\u001b[0m\u001b[1;33m)\u001b[0m\u001b[1;33m\u001b[0m\u001b[0m\n\u001b[0m\u001b[0;32m   1404\u001b[0m \u001b[1;33m\u001b[0m\u001b[0m\n\u001b[0;32m   1405\u001b[0m         \u001b[1;32mif\u001b[0m \u001b[0mpath_or_buf\u001b[0m \u001b[1;32mis\u001b[0m \u001b[1;32mNone\u001b[0m\u001b[1;33m:\u001b[0m\u001b[1;33m\u001b[0m\u001b[0m\n",
      "\u001b[1;32m~\\AppData\\Local\\Continuum\\anaconda3\\lib\\site-packages\\pandas\\io\\formats\\format.py\u001b[0m in \u001b[0;36msave\u001b[1;34m(self)\u001b[0m\n\u001b[0;32m   1575\u001b[0m             f, handles = _get_handle(self.path_or_buf, self.mode,\n\u001b[0;32m   1576\u001b[0m                                      \u001b[0mencoding\u001b[0m\u001b[1;33m=\u001b[0m\u001b[0mself\u001b[0m\u001b[1;33m.\u001b[0m\u001b[0mencoding\u001b[0m\u001b[1;33m,\u001b[0m\u001b[1;33m\u001b[0m\u001b[0m\n\u001b[1;32m-> 1577\u001b[1;33m                                      compression=self.compression)\n\u001b[0m\u001b[0;32m   1578\u001b[0m             \u001b[0mclose\u001b[0m \u001b[1;33m=\u001b[0m \u001b[1;32mTrue\u001b[0m\u001b[1;33m\u001b[0m\u001b[0m\n\u001b[0;32m   1579\u001b[0m \u001b[1;33m\u001b[0m\u001b[0m\n",
      "\u001b[1;32m~\\AppData\\Local\\Continuum\\anaconda3\\lib\\site-packages\\pandas\\io\\common.py\u001b[0m in \u001b[0;36m_get_handle\u001b[1;34m(path_or_buf, mode, encoding, compression, memory_map, is_text)\u001b[0m\n\u001b[0;32m    383\u001b[0m         \u001b[1;32melif\u001b[0m \u001b[0mis_text\u001b[0m\u001b[1;33m:\u001b[0m\u001b[1;33m\u001b[0m\u001b[0m\n\u001b[0;32m    384\u001b[0m             \u001b[1;31m# Python 3 and no explicit encoding\u001b[0m\u001b[1;33m\u001b[0m\u001b[1;33m\u001b[0m\u001b[0m\n\u001b[1;32m--> 385\u001b[1;33m             \u001b[0mf\u001b[0m \u001b[1;33m=\u001b[0m \u001b[0mopen\u001b[0m\u001b[1;33m(\u001b[0m\u001b[0mpath_or_buf\u001b[0m\u001b[1;33m,\u001b[0m \u001b[0mmode\u001b[0m\u001b[1;33m,\u001b[0m \u001b[0merrors\u001b[0m\u001b[1;33m=\u001b[0m\u001b[1;34m'replace'\u001b[0m\u001b[1;33m)\u001b[0m\u001b[1;33m\u001b[0m\u001b[0m\n\u001b[0m\u001b[0;32m    386\u001b[0m         \u001b[1;32melse\u001b[0m\u001b[1;33m:\u001b[0m\u001b[1;33m\u001b[0m\u001b[0m\n\u001b[0;32m    387\u001b[0m             \u001b[1;31m# Python 3 and binary mode\u001b[0m\u001b[1;33m\u001b[0m\u001b[1;33m\u001b[0m\u001b[0m\n",
      "\u001b[1;31mPermissionError\u001b[0m: [Errno 13] Permission denied: 'outs.csv'"
     ]
    }
   ],
   "source": [
    "#outs_combined.to_csv('outs.csv')"
   ]
  },
  {
   "cell_type": "code",
   "execution_count": 303,
   "metadata": {
    "collapsed": true
   },
   "outputs": [],
   "source": [
    "mrt_1 = mrt"
   ]
  },
  {
   "cell_type": "code",
   "execution_count": 304,
   "metadata": {},
   "outputs": [
    {
     "data": {
      "text/plain": [
       "False"
      ]
     },
     "execution_count": 304,
     "metadata": {},
     "output_type": "execute_result"
    }
   ],
   "source": [
    "mrt_1['approx_age'].isnull().any()"
   ]
  },
  {
   "cell_type": "code",
   "execution_count": 305,
   "metadata": {},
   "outputs": [],
   "source": [
    "mrt_1['approx_age'] = mrt_1['approx_age'].fillna(mrt_1['approx_age'].mean())"
   ]
  },
  {
   "cell_type": "code",
   "execution_count": 306,
   "metadata": {},
   "outputs": [
    {
     "data": {
      "text/plain": [
       "False"
      ]
     },
     "execution_count": 306,
     "metadata": {},
     "output_type": "execute_result"
    }
   ],
   "source": [
    "mrt_1['approx_age'].isnull().any()"
   ]
  },
  {
   "cell_type": "code",
   "execution_count": 307,
   "metadata": {},
   "outputs": [],
   "source": [
    "mrt_1 = mrt_1.groupby('patient_id').max().approx_age"
   ]
  },
  {
   "cell_type": "code",
   "execution_count": 309,
   "metadata": {},
   "outputs": [],
   "source": [
    "mrt_1.to_csv('age.csv')"
   ]
  },
  {
   "cell_type": "code",
   "execution_count": 318,
   "metadata": {},
   "outputs": [],
   "source": [
    "mrt2 = mrt\n",
    "mrt2['avg_nps'] = mrt2['avg_nps'].fillna(mrt2['avg_nps'].mean())"
   ]
  },
  {
   "cell_type": "code",
   "execution_count": 321,
   "metadata": {},
   "outputs": [],
   "source": [
    "mrt2 = mrt2.groupby('patient_id').max().avg_nps"
   ]
  },
  {
   "cell_type": "code",
   "execution_count": 322,
   "metadata": {
    "collapsed": true
   },
   "outputs": [],
   "source": [
    "mrt2.to_csv('nps.csv')"
   ]
  },
  {
   "cell_type": "code",
   "execution_count": 324,
   "metadata": {},
   "outputs": [],
   "source": [
    "submit = pd.read_csv('Submission.csv')"
   ]
  },
  {
   "cell_type": "code",
   "execution_count": 327,
   "metadata": {},
   "outputs": [],
   "source": [
    "sub = submit.drop(['Bucket'], axis = 1)"
   ]
  },
  {
   "cell_type": "code",
   "execution_count": 331,
   "metadata": {},
   "outputs": [],
   "source": [
    "sub.columns = ['patient_id']"
   ]
  },
  {
   "cell_type": "code",
   "execution_count": 335,
   "metadata": {},
   "outputs": [],
   "source": [
    "sub = sub.sort_values(ascending= True, by = 'patient_id')"
   ]
  },
  {
   "cell_type": "code",
   "execution_count": null,
   "metadata": {},
   "outputs": [],
   "source": []
  },
  {
   "cell_type": "code",
   "execution_count": 337,
   "metadata": {
    "collapsed": true
   },
   "outputs": [],
   "source": [
    "out1 = pd.merge(sub, final, on = \"patient_id\")"
   ]
  },
  {
   "cell_type": "code",
   "execution_count": 370,
   "metadata": {},
   "outputs": [],
   "source": [
    "out1.to_csv('test.csv')"
   ]
  },
  {
   "cell_type": "code",
   "execution_count": 360,
   "metadata": {},
   "outputs": [
    {
     "name": "stderr",
     "output_type": "stream",
     "text": [
      "C:\\Users\\i054633\\AppData\\Local\\Continuum\\anaconda3\\lib\\site-packages\\IPython\\core\\interactiveshell.py:2698: DtypeWarning: Columns (21) have mixed types. Specify dtype option on import or set low_memory=False.\n",
      "  interactivity=interactivity, compiler=compiler, result=result)\n"
     ]
    }
   ],
   "source": [
    "mrt_test = pd.read_csv('patient_monthwise_revenue_test.csv')\n",
    "mrts = mrt_test"
   ]
  },
  {
   "cell_type": "code",
   "execution_count": 361,
   "metadata": {},
   "outputs": [],
   "source": [
    "mrts['approx_age'].isnull().any()\n",
    "mrts['approx_age'] = mrts['approx_age'].fillna(mrts['approx_age'].mean())"
   ]
  },
  {
   "cell_type": "code",
   "execution_count": 362,
   "metadata": {},
   "outputs": [
    {
     "data": {
      "text/plain": [
       "False"
      ]
     },
     "execution_count": 362,
     "metadata": {},
     "output_type": "execute_result"
    }
   ],
   "source": [
    "mrts['approx_age'].isnull().any()"
   ]
  },
  {
   "cell_type": "code",
   "execution_count": 363,
   "metadata": {
    "collapsed": true
   },
   "outputs": [],
   "source": [
    "mrts_age = mrts.groupby('patient_id').max().approx_age"
   ]
  },
  {
   "cell_type": "code",
   "execution_count": 368,
   "metadata": {
    "collapsed": true
   },
   "outputs": [],
   "source": [
    "mrts_age.to_csv('age_test.csv')"
   ]
  },
  {
   "cell_type": "code",
   "execution_count": 365,
   "metadata": {
    "collapsed": true
   },
   "outputs": [],
   "source": [
    "mrts['avg_nps'] = mrts['avg_nps'].fillna(mrts['avg_nps'].mean())"
   ]
  },
  {
   "cell_type": "code",
   "execution_count": 366,
   "metadata": {
    "collapsed": true
   },
   "outputs": [],
   "source": [
    "mrts_nps = mrts.groupby('patient_id').max().avg_nps"
   ]
  },
  {
   "cell_type": "code",
   "execution_count": 369,
   "metadata": {
    "collapsed": true
   },
   "outputs": [],
   "source": [
    "mrts_nps.to_csv('nps_test.csv')"
   ]
  },
  {
   "cell_type": "code",
   "execution_count": null,
   "metadata": {
    "collapsed": true
   },
   "outputs": [],
   "source": []
  }
 ],
 "metadata": {
  "kernelspec": {
   "display_name": "Python 3",
   "language": "python",
   "name": "python3"
  }
 },
 "nbformat": 4,
 "nbformat_minor": 2
}
