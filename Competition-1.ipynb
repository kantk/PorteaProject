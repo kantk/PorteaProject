{
 "cells": [
  {
   "cell_type": "code",
   "execution_count": 106,
   "metadata": {
    "collapsed": true
   },
   "outputs": [],
   "source": [
    "import numpy  as np\n",
    "import pandas as pd \n",
    "import matplotlib.pyplot as plt\n",
    "\n",
    "# we need following features : months_count, total count , "
   ]
  },
  {
   "cell_type": "code",
   "execution_count": 107,
   "metadata": {},
   "outputs": [],
   "source": [
    "mrt = pd.read_csv('patient_monthwise_revenue_train.csv')\n",
    "dgs = pd.read_csv('physio_diagnosis_train.csv')\n",
    "aps = pd.read_csv('physio_appts_train.csv')\n",
    "out = pd.read_csv('patient_train_classified.csv')"
   ]
  },
  {
   "cell_type": "code",
   "execution_count": 108,
   "metadata": {},
   "outputs": [],
   "source": [
    "#mrt.info()"
   ]
  },
  {
   "cell_type": "code",
   "execution_count": 109,
   "metadata": {},
   "outputs": [],
   "source": [
    "#drop unwanted columns\n",
    "#labels = ['Unnamed: 20', 'Unnamed: 21']\n",
    "#mrt    = mrt.drop(labels = labels , axis = 1)"
   ]
  },
  {
   "cell_type": "code",
   "execution_count": 110,
   "metadata": {},
   "outputs": [],
   "source": [
    "#mrt.info()\n",
    "#looks better: :) "
   ]
  },
  {
   "cell_type": "code",
   "execution_count": 111,
   "metadata": {},
   "outputs": [],
   "source": [
    "#check the others\n",
    "#dgs.info()"
   ]
  },
  {
   "cell_type": "code",
   "execution_count": 112,
   "metadata": {
    "collapsed": true
   },
   "outputs": [],
   "source": [
    "#drop unwanted columns\n",
    "labels = ['Unnamed: 7', 'Unnamed: 8']\n",
    "dgs    = dgs.drop(labels = labels , axis = 1)"
   ]
  },
  {
   "cell_type": "code",
   "execution_count": 55,
   "metadata": {},
   "outputs": [],
   "source": [
    "#dgs.info()"
   ]
  },
  {
   "cell_type": "code",
   "execution_count": 56,
   "metadata": {},
   "outputs": [],
   "source": [
    "# look at aps now\n",
    "#aps.info()\n"
   ]
  },
  {
   "cell_type": "code",
   "execution_count": 57,
   "metadata": {},
   "outputs": [],
   "source": [
    "# out\n",
    "#out.info()"
   ]
  },
  {
   "cell_type": "code",
   "execution_count": 113,
   "metadata": {},
   "outputs": [
    {
     "data": {
      "text/plain": [
       "<matplotlib.axes._subplots.AxesSubplot at 0x1bbc9ca45f8>"
      ]
     },
     "execution_count": 113,
     "metadata": {},
     "output_type": "execute_result"
    }
   ],
   "source": [
    "mrt.groupby(['patient_id'])['visit_month_year'].count().value_counts().plot(kind = 'hist')\n",
    "#plt.show()"
   ]
  },
  {
   "cell_type": "code",
   "execution_count": 114,
   "metadata": {},
   "outputs": [],
   "source": [
    "#mrt.groupby(['patient_id'])['visit_month_year'].count().value_counts()"
   ]
  },
  {
   "cell_type": "code",
   "execution_count": 115,
   "metadata": {},
   "outputs": [
    {
     "name": "stdout",
     "output_type": "stream",
     "text": [
      "<class 'pandas.core.frame.DataFrame'>\n",
      "Int64Index: 48804 entries, 10020 to 454678\n",
      "Data columns (total 1 columns):\n",
      "visit_month_year    48804 non-null int64\n",
      "dtypes: int64(1)\n",
      "memory usage: 762.6 KB\n"
     ]
    }
   ],
   "source": [
    "mrt_1 = mrt.groupby('patient_id').count().visit_month_year.to_frame()\n",
    "mrt_1.info()\n"
   ]
  },
  {
   "cell_type": "code",
   "execution_count": 116,
   "metadata": {},
   "outputs": [],
   "source": [
    "mrt_1.columns = [ 'months_count']\n",
    "mrt_f         = mrt_1"
   ]
  },
  {
   "cell_type": "code",
   "execution_count": 117,
   "metadata": {},
   "outputs": [
    {
     "name": "stdout",
     "output_type": "stream",
     "text": [
      "<class 'pandas.core.frame.DataFrame'>\n",
      "Int64Index: 48804 entries, 10020 to 454678\n",
      "Data columns (total 1 columns):\n",
      "visits_count    48804 non-null int64\n",
      "dtypes: int64(1)\n",
      "memory usage: 762.6 KB\n"
     ]
    }
   ],
   "source": [
    "mrt_1 = mrt\n",
    "mrt_1 = mrt_1.groupby('patient_id').sum().visits_count.to_frame()\n",
    "mrt_1.info()"
   ]
  },
  {
   "cell_type": "code",
   "execution_count": 118,
   "metadata": {},
   "outputs": [],
   "source": [
    "mrt_1.columns  = [ 'visits_count_sum' ]"
   ]
  },
  {
   "cell_type": "code",
   "execution_count": 119,
   "metadata": {},
   "outputs": [],
   "source": [
    "mrt_f1 = pd.concat([mrt_f, mrt_1], axis = 1)\n"
   ]
  },
  {
   "cell_type": "code",
   "execution_count": 120,
   "metadata": {},
   "outputs": [
    {
     "name": "stdout",
     "output_type": "stream",
     "text": [
      "<class 'pandas.core.frame.DataFrame'>\n",
      "Int64Index: 48804 entries, 10020 to 454678\n",
      "Data columns (total 2 columns):\n",
      "months_count        48804 non-null int64\n",
      "visits_count_sum    48804 non-null int64\n",
      "dtypes: int64(2)\n",
      "memory usage: 1.1 MB\n"
     ]
    }
   ],
   "source": [
    "mrt_f1.info()\n",
    "mrt_f1\n",
    "mrt_f = mrt_f1"
   ]
  },
  {
   "cell_type": "code",
   "execution_count": 121,
   "metadata": {},
   "outputs": [
    {
     "name": "stdout",
     "output_type": "stream",
     "text": [
      "<class 'pandas.core.frame.DataFrame'>\n",
      "Int64Index: 48804 entries, 10020 to 454678\n",
      "Data columns (total 1 columns):\n",
      "revenue    48804 non-null float64\n",
      "dtypes: float64(1)\n",
      "memory usage: 762.6 KB\n"
     ]
    }
   ],
   "source": [
    "mrt_1 = mrt\n",
    "mrt_1 = mrt_1.groupby('patient_id').sum().revenue.to_frame()\n",
    "mrt_1.info()"
   ]
  },
  {
   "cell_type": "code",
   "execution_count": 122,
   "metadata": {
    "collapsed": true
   },
   "outputs": [],
   "source": [
    "mrt_1.columns = ['revenue_sum']"
   ]
  },
  {
   "cell_type": "code",
   "execution_count": 123,
   "metadata": {},
   "outputs": [],
   "source": [
    "mrt_f1 = pd.concat([mrt_f, mrt_1], axis = 1)"
   ]
  },
  {
   "cell_type": "code",
   "execution_count": 124,
   "metadata": {},
   "outputs": [],
   "source": [
    "mrt_f1\n",
    "mrt_f = mrt_f1"
   ]
  },
  {
   "cell_type": "code",
   "execution_count": 125,
   "metadata": {},
   "outputs": [
    {
     "name": "stdout",
     "output_type": "stream",
     "text": [
      "<class 'pandas.core.frame.DataFrame'>\n",
      "Int64Index: 48804 entries, 10020 to 454678\n",
      "Data columns (total 3 columns):\n",
      "months_count        48804 non-null int64\n",
      "visits_count_sum    48804 non-null int64\n",
      "revenue_sum         48804 non-null float64\n",
      "dtypes: float64(1), int64(2)\n",
      "memory usage: 1.5 MB\n"
     ]
    }
   ],
   "source": [
    "mrt_f.info()"
   ]
  },
  {
   "cell_type": "code",
   "execution_count": 126,
   "metadata": {},
   "outputs": [],
   "source": [
    "from datetime import datetime\n",
    "import time\n",
    "mrt_1 = mrt\n",
    "def compare_dates(date):\n",
    "    date_format = '%d/%m/%Y'\n",
    "    current_date = datetime.strptime(date, date_format)  \n",
    "  \n",
    "    return current_date\n",
    "\n",
    "mrt_1['FVD'] = mrt_1['FVD'].apply(compare_dates)"
   ]
  },
  {
   "cell_type": "code",
   "execution_count": 127,
   "metadata": {},
   "outputs": [],
   "source": [
    "mrt_1['FVD']\n",
    "\n",
    "mrt_1['LVD'] = mrt_1['LVD'].apply(compare_dates)"
   ]
  },
  {
   "cell_type": "code",
   "execution_count": 128,
   "metadata": {},
   "outputs": [],
   "source": [
    "mrt_1['NO_OF_DAYS'] = (mrt_1['LVD']-mrt_1['FVD']).dt.days"
   ]
  },
  {
   "cell_type": "code",
   "execution_count": 129,
   "metadata": {},
   "outputs": [],
   "source": [
    "mrt_1 = mrt_1.groupby('patient_id').max().NO_OF_DAYS"
   ]
  },
  {
   "cell_type": "code",
   "execution_count": 130,
   "metadata": {},
   "outputs": [],
   "source": [
    "mrt_1 = mrt_1.to_frame()"
   ]
  },
  {
   "cell_type": "code",
   "execution_count": 131,
   "metadata": {},
   "outputs": [],
   "source": [
    "mrt_1\n",
    "mrt_f1 = pd.concat([mrt_f, mrt_1], axis = 1)"
   ]
  },
  {
   "cell_type": "code",
   "execution_count": 132,
   "metadata": {},
   "outputs": [],
   "source": [
    "mrt_f1\n",
    "mrt_f  = mrt_f1"
   ]
  },
  {
   "cell_type": "code",
   "execution_count": 133,
   "metadata": {},
   "outputs": [
    {
     "name": "stdout",
     "output_type": "stream",
     "text": [
      "<class 'pandas.core.frame.DataFrame'>\n",
      "Int64Index: 48804 entries, 10020 to 454678\n",
      "Data columns (total 4 columns):\n",
      "months_count        48804 non-null int64\n",
      "visits_count_sum    48804 non-null int64\n",
      "revenue_sum         48804 non-null float64\n",
      "NO_OF_DAYS          48804 non-null int64\n",
      "dtypes: float64(1), int64(3)\n",
      "memory usage: 1.9 MB\n"
     ]
    }
   ],
   "source": [
    "mrt_f.info()"
   ]
  },
  {
   "cell_type": "code",
   "execution_count": 134,
   "metadata": {},
   "outputs": [],
   "source": [
    "mrt_1   = mrt\n",
    "mrt_1   = mrt.groupby('patient_id').sum().visits_required.to_frame()"
   ]
  },
  {
   "cell_type": "code",
   "execution_count": 135,
   "metadata": {},
   "outputs": [],
   "source": [
    "mrt_1\n",
    "mrt_f1 = pd.concat([mrt_f, mrt_1], axis = 1)"
   ]
  },
  {
   "cell_type": "code",
   "execution_count": 136,
   "metadata": {},
   "outputs": [],
   "source": [
    "mrt_f1\n",
    "mrt_f = mrt_f1"
   ]
  },
  {
   "cell_type": "code",
   "execution_count": 137,
   "metadata": {},
   "outputs": [
    {
     "name": "stdout",
     "output_type": "stream",
     "text": [
      "<class 'pandas.core.frame.DataFrame'>\n",
      "Int64Index: 48804 entries, 10020 to 454678\n",
      "Data columns (total 5 columns):\n",
      "months_count        48804 non-null int64\n",
      "visits_count_sum    48804 non-null int64\n",
      "revenue_sum         48804 non-null float64\n",
      "NO_OF_DAYS          48804 non-null int64\n",
      "visits_required     48804 non-null int64\n",
      "dtypes: float64(1), int64(4)\n",
      "memory usage: 2.2 MB\n"
     ]
    }
   ],
   "source": [
    "mrt_f.info()"
   ]
  },
  {
   "cell_type": "code",
   "execution_count": 147,
   "metadata": {},
   "outputs": [],
   "source": [
    "mrt_1 = mrt\n",
    "mart_1 = mrt_1.drop(['NO_OF_DAYS'], axis = 1)"
   ]
  },
  {
   "cell_type": "code",
   "execution_count": 148,
   "metadata": {},
   "outputs": [],
   "source": [
    "mrt_1['avg_nps'] = mrt_1['avg_nps'].fillna(mrt_1['avg_nps'].mean())"
   ]
  },
  {
   "cell_type": "code",
   "execution_count": 149,
   "metadata": {},
   "outputs": [
    {
     "data": {
      "text/plain": [
       "False"
      ]
     },
     "execution_count": 149,
     "metadata": {},
     "output_type": "execute_result"
    }
   ],
   "source": [
    "mrt_1['avg_nps'].isnull().any()"
   ]
  },
  {
   "cell_type": "code",
   "execution_count": 151,
   "metadata": {},
   "outputs": [],
   "source": [
    "mrt_1   = mrt_1.groupby('patient_id').max().avg_nps"
   ]
  },
  {
   "cell_type": "code",
   "execution_count": 153,
   "metadata": {
    "collapsed": true
   },
   "outputs": [],
   "source": [
    "mrt_1  = mrt_1.to_frame()"
   ]
  },
  {
   "cell_type": "code",
   "execution_count": 155,
   "metadata": {
    "collapsed": true
   },
   "outputs": [],
   "source": [
    "mrt_f1  = pd.concat([mrt_f, mrt_1], axis = 1)"
   ]
  },
  {
   "cell_type": "code",
   "execution_count": 157,
   "metadata": {},
   "outputs": [],
   "source": [
    "mrt_f1\n",
    "mrt_f = mrt_f1"
   ]
  },
  {
   "cell_type": "code",
   "execution_count": 158,
   "metadata": {},
   "outputs": [
    {
     "name": "stdout",
     "output_type": "stream",
     "text": [
      "<class 'pandas.core.frame.DataFrame'>\n",
      "Int64Index: 48804 entries, 10020 to 454678\n",
      "Data columns (total 6 columns):\n",
      "months_count        48804 non-null int64\n",
      "visits_count_sum    48804 non-null int64\n",
      "revenue_sum         48804 non-null float64\n",
      "NO_OF_DAYS          48804 non-null int64\n",
      "visits_required     48804 non-null int64\n",
      "avg_nps             48804 non-null float64\n",
      "dtypes: float64(2), int64(4)\n",
      "memory usage: 2.6 MB\n"
     ]
    }
   ],
   "source": [
    "mrt_f.info()"
   ]
  },
  {
   "cell_type": "code",
   "execution_count": 164,
   "metadata": {},
   "outputs": [],
   "source": [
    "mrt_1 = mrt\n",
    "mrt_1[\"service_id\"] = mrt_1[\"service_id\"].astype('category')"
   ]
  },
  {
   "cell_type": "code",
   "execution_count": 165,
   "metadata": {
    "collapsed": true
   },
   "outputs": [],
   "source": [
    "mrt_1['service_id'] = mrt_1['service_id'].cat.codes"
   ]
  },
  {
   "cell_type": "code",
   "execution_count": 167,
   "metadata": {},
   "outputs": [],
   "source": [
    "mrt_1['service_id']\n",
    "mrt_1  = mrt_1.groupby('patient_id').max().service_id.to_frame()"
   ]
  },
  {
   "cell_type": "code",
   "execution_count": 168,
   "metadata": {
    "collapsed": true
   },
   "outputs": [],
   "source": [
    "mrt_f1  = pd.concat([mrt_f, mrt_1], axis = 1)\n",
    "mrt_f   = mrt_f1\n"
   ]
  },
  {
   "cell_type": "code",
   "execution_count": 169,
   "metadata": {},
   "outputs": [
    {
     "name": "stdout",
     "output_type": "stream",
     "text": [
      "<class 'pandas.core.frame.DataFrame'>\n",
      "Int64Index: 48804 entries, 10020 to 454678\n",
      "Data columns (total 7 columns):\n",
      "months_count        48804 non-null int64\n",
      "visits_count_sum    48804 non-null int64\n",
      "revenue_sum         48804 non-null float64\n",
      "NO_OF_DAYS          48804 non-null int64\n",
      "visits_required     48804 non-null int64\n",
      "avg_nps             48804 non-null float64\n",
      "service_id          48804 non-null int16\n",
      "dtypes: float64(2), int16(1), int64(4)\n",
      "memory usage: 2.7 MB\n"
     ]
    }
   ],
   "source": [
    "mrt_f.info()"
   ]
  },
  {
   "cell_type": "code",
   "execution_count": 171,
   "metadata": {},
   "outputs": [
    {
     "name": "stdout",
     "output_type": "stream",
     "text": [
      "<class 'pandas.core.frame.DataFrame'>\n",
      "Int64Index: 48804 entries, 10020 to 454678\n",
      "Data columns (total 8 columns):\n",
      "months_count        48804 non-null int64\n",
      "visits_count_sum    48804 non-null int64\n",
      "revenue_sum         48804 non-null float64\n",
      "NO_OF_DAYS          48804 non-null int64\n",
      "visits_required     48804 non-null int64\n",
      "avg_nps             48804 non-null float64\n",
      "service_id          48804 non-null int16\n",
      "city                48804 non-null int8\n",
      "dtypes: float64(2), int16(1), int64(4), int8(1)\n",
      "memory usage: 2.7 MB\n"
     ]
    }
   ],
   "source": [
    "mrt_1 = mrt\n",
    "mrt_1[\"city\"] = mrt_1[\"city\"].astype('category')\n",
    "mrt_1['city'] = mrt_1['city'].cat.codes\n",
    "mrt_1['city']\n",
    "mrt_1  = mrt_1.groupby('patient_id').max().city.to_frame()\n",
    "mrt_f1  = pd.concat([mrt_f, mrt_1], axis = 1)\n",
    "mrt_f   = mrt_f1\n",
    "mrt_f.info()"
   ]
  },
  {
   "cell_type": "code",
   "execution_count": 172,
   "metadata": {},
   "outputs": [
    {
     "name": "stdout",
     "output_type": "stream",
     "text": [
      "<class 'pandas.core.frame.DataFrame'>\n",
      "Int64Index: 48804 entries, 10020 to 454678\n",
      "Data columns (total 9 columns):\n",
      "months_count        48804 non-null int64\n",
      "visits_count_sum    48804 non-null int64\n",
      "revenue_sum         48804 non-null float64\n",
      "NO_OF_DAYS          48804 non-null int64\n",
      "visits_required     48804 non-null int64\n",
      "avg_nps             48804 non-null float64\n",
      "service_id          48804 non-null int16\n",
      "city                48804 non-null int8\n",
      "ref_type            48804 non-null int8\n",
      "dtypes: float64(2), int16(1), int64(4), int8(2)\n",
      "memory usage: 2.8 MB\n"
     ]
    }
   ],
   "source": [
    "mrt_1 = mrt\n",
    "mrt_1[\"ref_type\"] = mrt_1[\"ref_type\"].astype('category')\n",
    "mrt_1['ref_type'] = mrt_1['ref_type'].cat.codes\n",
    "mrt_1['ref_type']\n",
    "mrt_1  = mrt_1.groupby('patient_id').max().ref_type.to_frame()\n",
    "mrt_f1  = pd.concat([mrt_f, mrt_1], axis = 1)\n",
    "mrt_f   = mrt_f1\n",
    "mrt_f.info()"
   ]
  },
  {
   "cell_type": "code",
   "execution_count": 173,
   "metadata": {},
   "outputs": [
    {
     "name": "stdout",
     "output_type": "stream",
     "text": [
      "<class 'pandas.core.frame.DataFrame'>\n",
      "Int64Index: 48804 entries, 10020 to 454678\n",
      "Data columns (total 10 columns):\n",
      "months_count        48804 non-null int64\n",
      "visits_count_sum    48804 non-null int64\n",
      "revenue_sum         48804 non-null float64\n",
      "NO_OF_DAYS          48804 non-null int64\n",
      "visits_required     48804 non-null int64\n",
      "avg_nps             48804 non-null float64\n",
      "service_id          48804 non-null int16\n",
      "city                48804 non-null int8\n",
      "ref_type            48804 non-null int8\n",
      "ref_name            48804 non-null int16\n",
      "dtypes: float64(2), int16(2), int64(4), int8(2)\n",
      "memory usage: 2.9 MB\n"
     ]
    }
   ],
   "source": [
    "mrt_1 = mrt\n",
    "mrt_1[\"ref_name\"] = mrt_1[\"ref_name\"].astype('category')\n",
    "mrt_1['ref_name'] = mrt_1['ref_name'].cat.codes\n",
    "mrt_1['ref_name']\n",
    "mrt_1  = mrt_1.groupby('patient_id').max().ref_name.to_frame()\n",
    "mrt_f1  = pd.concat([mrt_f, mrt_1], axis = 1)\n",
    "mrt_f   = mrt_f1\n",
    "mrt_f.info()"
   ]
  },
  {
   "cell_type": "code",
   "execution_count": 175,
   "metadata": {},
   "outputs": [
    {
     "name": "stdout",
     "output_type": "stream",
     "text": [
      "<class 'pandas.core.frame.DataFrame'>\n",
      "Int64Index: 48804 entries, 10020 to 454678\n",
      "Data columns (total 11 columns):\n",
      "months_count        48804 non-null int64\n",
      "visits_count_sum    48804 non-null int64\n",
      "revenue_sum         48804 non-null float64\n",
      "NO_OF_DAYS          48804 non-null int64\n",
      "visits_required     48804 non-null int64\n",
      "avg_nps             48804 non-null float64\n",
      "service_id          48804 non-null int16\n",
      "city                48804 non-null int8\n",
      "ref_type            48804 non-null int8\n",
      "ref_name            48804 non-null int16\n",
      "ref_source          48804 non-null int8\n",
      "dtypes: float64(2), int16(2), int64(4), int8(3)\n",
      "memory usage: 2.9 MB\n"
     ]
    }
   ],
   "source": [
    "mrt_1 = mrt\n",
    "mrt_1[\"ref_source\"] = mrt_1[\"ref_source\"].astype('category')\n",
    "mrt_1['ref_source'] = mrt_1['ref_source'].cat.codes\n",
    "mrt_1['ref_source']\n",
    "mrt_1  = mrt_1.groupby('patient_id').max().ref_source.to_frame()\n",
    "mrt_f1  = pd.concat([mrt_f, mrt_1], axis = 1)\n",
    "mrt_f   = mrt_f1\n",
    "mrt_f.info()"
   ]
  },
  {
   "cell_type": "code",
   "execution_count": 176,
   "metadata": {},
   "outputs": [
    {
     "name": "stdout",
     "output_type": "stream",
     "text": [
      "<class 'pandas.core.frame.DataFrame'>\n",
      "Int64Index: 48804 entries, 10020 to 454678\n",
      "Data columns (total 12 columns):\n",
      "months_count        48804 non-null int64\n",
      "visits_count_sum    48804 non-null int64\n",
      "revenue_sum         48804 non-null float64\n",
      "NO_OF_DAYS          48804 non-null int64\n",
      "visits_required     48804 non-null int64\n",
      "avg_nps             48804 non-null float64\n",
      "service_id          48804 non-null int16\n",
      "city                48804 non-null int8\n",
      "ref_type            48804 non-null int8\n",
      "ref_name            48804 non-null int16\n",
      "ref_source          48804 non-null int8\n",
      "service_name        48804 non-null int8\n",
      "dtypes: float64(2), int16(2), int64(4), int8(4)\n",
      "memory usage: 3.0 MB\n"
     ]
    }
   ],
   "source": [
    "mrt_1 = mrt\n",
    "mrt_1[\"service_name\"] = mrt_1[\"service_name\"].astype('category')\n",
    "mrt_1['service_name'] = mrt_1['service_name'].cat.codes\n",
    "mrt_1['service_name']\n",
    "mrt_1  = mrt_1.groupby('patient_id').max().service_name.to_frame()\n",
    "mrt_f1  = pd.concat([mrt_f, mrt_1], axis = 1)\n",
    "mrt_f   = mrt_f1\n",
    "mrt_f.info()"
   ]
  },
  {
   "cell_type": "code",
   "execution_count": 177,
   "metadata": {},
   "outputs": [
    {
     "name": "stdout",
     "output_type": "stream",
     "text": [
      "<class 'pandas.core.frame.DataFrame'>\n",
      "Int64Index: 48804 entries, 10020 to 454678\n",
      "Data columns (total 13 columns):\n",
      "months_count        48804 non-null int64\n",
      "visits_count_sum    48804 non-null int64\n",
      "revenue_sum         48804 non-null float64\n",
      "NO_OF_DAYS          48804 non-null int64\n",
      "visits_required     48804 non-null int64\n",
      "avg_nps             48804 non-null float64\n",
      "service_id          48804 non-null int16\n",
      "city                48804 non-null int8\n",
      "ref_type            48804 non-null int8\n",
      "ref_name            48804 non-null int16\n",
      "ref_source          48804 non-null int8\n",
      "service_name        48804 non-null int8\n",
      "gender              48804 non-null int8\n",
      "dtypes: float64(2), int16(2), int64(4), int8(5)\n",
      "memory usage: 3.0 MB\n"
     ]
    }
   ],
   "source": [
    "mrt_1 = mrt\n",
    "mrt_1[\"gender\"] = mrt_1[\"gender\"].astype('category')\n",
    "mrt_1['gender'] = mrt_1['gender'].cat.codes\n",
    "mrt_1['gender']\n",
    "mrt_1  = mrt_1.groupby('patient_id').max().gender.to_frame()\n",
    "mrt_f1  = pd.concat([mrt_f, mrt_1], axis = 1)\n",
    "mrt_f   = mrt_f1\n",
    "mrt_f.info()"
   ]
  },
  {
   "cell_type": "code",
   "execution_count": 179,
   "metadata": {},
   "outputs": [
    {
     "name": "stdout",
     "output_type": "stream",
     "text": [
      "<class 'pandas.core.frame.DataFrame'>\n",
      "Int64Index: 48804 entries, 10020 to 454678\n",
      "Data columns (total 14 columns):\n",
      "months_count        48804 non-null int64\n",
      "visits_count_sum    48804 non-null int64\n",
      "revenue_sum         48804 non-null float64\n",
      "NO_OF_DAYS          48804 non-null int64\n",
      "visits_required     48804 non-null int64\n",
      "avg_nps             48804 non-null float64\n",
      "service_id          48804 non-null int16\n",
      "city                48804 non-null int8\n",
      "ref_type            48804 non-null int8\n",
      "ref_name            48804 non-null int16\n",
      "ref_source          48804 non-null int8\n",
      "service_name        48804 non-null int8\n",
      "gender              48804 non-null int8\n",
      "brand               48804 non-null int8\n",
      "dtypes: float64(2), int16(2), int64(4), int8(6)\n",
      "memory usage: 3.1 MB\n"
     ]
    }
   ],
   "source": [
    "mrt_1 = mrt\n",
    "mrt_1[\"brand\"] = mrt_1[\"brand\"].astype('category')\n",
    "mrt_1['brand'] = mrt_1['brand'].cat.codes\n",
    "mrt_1['brand']\n",
    "mrt_1  = mrt_1.groupby('patient_id').max().brand.to_frame()\n",
    "mrt_f1  = pd.concat([mrt_f, mrt_1], axis = 1)\n",
    "mrt_f   = mrt_f1\n",
    "mrt_f.info()"
   ]
  },
  {
   "cell_type": "code",
   "execution_count": 180,
   "metadata": {},
   "outputs": [
    {
     "name": "stdout",
     "output_type": "stream",
     "text": [
      "<class 'pandas.core.frame.DataFrame'>\n",
      "Int64Index: 48804 entries, 10020 to 454678\n",
      "Data columns (total 15 columns):\n",
      "months_count        48804 non-null int64\n",
      "visits_count_sum    48804 non-null int64\n",
      "revenue_sum         48804 non-null float64\n",
      "NO_OF_DAYS          48804 non-null int64\n",
      "visits_required     48804 non-null int64\n",
      "avg_nps             48804 non-null float64\n",
      "service_id          48804 non-null int16\n",
      "city                48804 non-null int8\n",
      "ref_type            48804 non-null int8\n",
      "ref_name            48804 non-null int16\n",
      "ref_source          48804 non-null int8\n",
      "service_name        48804 non-null int8\n",
      "gender              48804 non-null int8\n",
      "brand               48804 non-null int8\n",
      "approx_age          48804 non-null object\n",
      "dtypes: float64(2), int16(2), int64(4), int8(6), object(1)\n",
      "memory usage: 3.4+ MB\n"
     ]
    }
   ],
   "source": [
    "mrt_1 = mrt\n",
    "mrt_1  = mrt_1.groupby('patient_id').max().approx_age.to_frame()\n",
    "mrt_f1  = pd.concat([mrt_f, mrt_1], axis = 1)\n",
    "mrt_f   = mrt_f1\n",
    "mrt_f.info()"
   ]
  },
  {
   "cell_type": "code",
   "execution_count": 182,
   "metadata": {},
   "outputs": [],
   "source": [
    "mrt_f.to_csv('mrt_final.csv')"
   ]
  },
  {
   "cell_type": "code",
   "execution_count": 183,
   "metadata": {
    "collapsed": true
   },
   "outputs": [],
   "source": [
    "# take this input and start with another processing\n",
    "\n",
    "mrt_f  = pd.read_csv('mrt_final.csv')"
   ]
  },
  {
   "cell_type": "code",
   "execution_count": 184,
   "metadata": {},
   "outputs": [
    {
     "name": "stdout",
     "output_type": "stream",
     "text": [
      "<class 'pandas.core.frame.DataFrame'>\n",
      "RangeIndex: 48804 entries, 0 to 48803\n",
      "Data columns (total 16 columns):\n",
      "patient_id          48804 non-null int64\n",
      "months_count        48804 non-null int64\n",
      "visits_count_sum    48804 non-null int64\n",
      "revenue_sum         48804 non-null float64\n",
      "NO_OF_DAYS          48804 non-null int64\n",
      "visits_required     48804 non-null int64\n",
      "avg_nps             48804 non-null float64\n",
      "service_id          48804 non-null int64\n",
      "city                48804 non-null int64\n",
      "ref_type            48804 non-null int64\n",
      "ref_name            48804 non-null int64\n",
      "ref_source          48804 non-null int64\n",
      "service_name        48804 non-null int64\n",
      "gender              48804 non-null int64\n",
      "brand               48804 non-null int64\n",
      "approx_age          47709 non-null float64\n",
      "dtypes: float64(3), int64(13)\n",
      "memory usage: 6.0 MB\n"
     ]
    }
   ],
   "source": [
    "mrt_f.info()"
   ]
  },
  {
   "cell_type": "code",
   "execution_count": 188,
   "metadata": {},
   "outputs": [
    {
     "data": {
      "text/plain": [
       "1095"
      ]
     },
     "execution_count": 188,
     "metadata": {},
     "output_type": "execute_result"
    }
   ],
   "source": [
    "mrt_f['approx_age'].isnull().sum()"
   ]
  },
  {
   "cell_type": "code",
   "execution_count": 194,
   "metadata": {},
   "outputs": [
    {
     "data": {
      "text/plain": [
       "0"
      ]
     },
     "execution_count": 194,
     "metadata": {},
     "output_type": "execute_result"
    }
   ],
   "source": [
    "mrt_f['approx_age'] = mrt_f['approx_age'].fillna(mrt_f['approx_age'].mean())\n",
    "mrt_f['approx_age'].isnull().sum()"
   ]
  },
  {
   "cell_type": "code",
   "execution_count": 197,
   "metadata": {},
   "outputs": [],
   "source": [
    "mrt_f  = mrt_f.to_csv('mrt_final.csv')"
   ]
  },
  {
   "cell_type": "code",
   "execution_count": null,
   "metadata": {
    "collapsed": true
   },
   "outputs": [],
   "source": []
  }
 ],
 "metadata": {
  "kernelspec": {
   "display_name": "Python 3",
   "language": "python",
   "name": "python3"
  },
  "language_info": {
   "codemirror_mode": {
    "name": "ipython",
    "version": 3
   },
   "file_extension": ".py",
   "mimetype": "text/x-python",
   "name": "python",
   "nbconvert_exporter": "python",
   "pygments_lexer": "ipython3",
   "version": "3.6.3"
  }
 },
 "nbformat": 4,
 "nbformat_minor": 2
}
